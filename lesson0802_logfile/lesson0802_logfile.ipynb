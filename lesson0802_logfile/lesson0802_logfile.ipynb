{
 "cells": [
  {
   "cell_type": "code",
   "execution_count": 1,
   "metadata": {},
   "outputs": [
    {
     "data": {
      "text/plain": [
       "'__main__'"
      ]
     },
     "execution_count": 1,
     "metadata": {},
     "output_type": "execute_result"
    }
   ],
   "source": [
    "__name__\n",
    "\n",
    "# 文件變數有個名字"
   ]
  },
  {
   "cell_type": "code",
   "execution_count": 9,
   "metadata": {},
   "outputs": [
    {
     "name": "stdout",
     "output_type": "stream",
     "text": [
      "2024\n",
      "8\n",
      "2\n",
      "10\n",
      "15\n",
      "17\n"
     ]
    }
   ],
   "source": [
    "# 取得當前電腦的日期與時間\n",
    "from datetime import datetime\n",
    "now = datetime.now()\n",
    "print(now.year)\n",
    "print(now.month)\n",
    "print(now.day)\n",
    "print(now.hour)\n",
    "print(now.minute)\n",
    "print(now.second)"
   ]
  },
  {
   "cell_type": "markdown",
   "metadata": {},
   "source": [
    "%Y: 4 位數字的年份（例如：2024）\n",
    "%m: 2 位數字的月份（範圍：01 到 12）\n",
    "%d: 2 位數字的日期（範圍：01 到 31）\n",
    "%H: 24 小時制的小時（範圍：00 到 23）\n",
    "%M: 2 位數字的分鐘（範圍：00 到 59）\n",
    "%S: 2 位數字的秒（範圍：00 到 59）\n",
    "strtime是string format time的縮寫"
   ]
  },
  {
   "cell_type": "code",
   "execution_count": 18,
   "metadata": {},
   "outputs": [
    {
     "name": "stdout",
     "output_type": "stream",
     "text": [
      "%Y-%m-%d %H:%M:%S\n"
     ]
    }
   ],
   "source": [
    "now.strftime('%Y-%m-%d %H:%M:%S')"
   ]
  },
  {
   "cell_type": "markdown",
   "metadata": {},
   "source": [
    "**溫溼度**"
   ]
  },
  {
   "cell_type": "code",
   "execution_count": 30,
   "metadata": {},
   "outputs": [
    {
     "name": "stdout",
     "output_type": "stream",
     "text": [
      "55.6\n",
      "21.8\n"
     ]
    }
   ],
   "source": [
    "import random\n",
    "\n",
    "humidity = str(random.randint(330, 820) / 10)\n",
    "celsius = (random.randint(50, 400) / 10)\n",
    "\n",
    "print(humidity)\n",
    "print(celsius)"
   ]
  },
  {
   "cell_type": "code",
   "execution_count": 37,
   "metadata": {},
   "outputs": [
    {
     "name": "stdout",
     "output_type": "stream",
     "text": [
      "c:\\Users\\user\\Desktop\\python\\Lesson_0801\\lesson_2408\\240801\\Lesson0801\\lesson0802_logfile\\data\n",
      "沒有data目錄,手動建立目錄\n"
     ]
    }
   ],
   "source": [
    "import os # 取得文件\n",
    "import os.path # 取得路徑\n",
    "\n",
    "current_path = os.path.abspath(__name__)\n",
    "directory_name = os.path.dirname(current_path)\n",
    "data_path = os.path.join(directory_name,'data')  # 目前資料夾路徑加上data目錄\n",
    "print(data_path)\n",
    "if not os.path.isdir(data_path):\n",
    "    print(\"沒有data目錄,手動建立目錄\")\n",
    "    os.mkdir(data_path)\n",
    "else:\n",
    "    print('目錄已經建立')\n",
    "\n",
    "\n",
    "# logfile 是文件名或文件名的一部分\n",
    "# 它通常用來表示一個日誌文件（log file）。\n",
    "# 日誌文件是記錄系統或應用程序運行時事件、錯誤、\n",
    "# 操作記錄等信息的文件。這些信息通常用於排查錯誤、\n",
    "# 追蹤應用程序的運行狀態或性能問題。"
   ]
  },
  {
   "cell_type": "code",
   "execution_count": 39,
   "metadata": {},
   "outputs": [
    {
     "name": "stdout",
     "output_type": "stream",
     "text": [
      "Rex says woof!\n"
     ]
    }
   ],
   "source": [
    "class Dog:\n",
    "    def __init__(self, name, age):\n",
    "        self.name = name\n",
    "        self.age = age\n",
    "\n",
    "    def bark(self):\n",
    "        return f\"{self.name} says woof!\"\n",
    "    \n",
    "my_dog = Dog(name='Rex', age=10)\n",
    "print(my_dog.bark())\n",
    "\n",
    "\n"
   ]
  }
 ],
 "metadata": {
  "kernelspec": {
   "display_name": "lesson_2408",
   "language": "python",
   "name": "python3"
  },
  "language_info": {
   "codemirror_mode": {
    "name": "ipython",
    "version": 3
   },
   "file_extension": ".py",
   "mimetype": "text/x-python",
   "name": "python",
   "nbconvert_exporter": "python",
   "pygments_lexer": "ipython3",
   "version": "3.12.3"
  }
 },
 "nbformat": 4,
 "nbformat_minor": 2
}
