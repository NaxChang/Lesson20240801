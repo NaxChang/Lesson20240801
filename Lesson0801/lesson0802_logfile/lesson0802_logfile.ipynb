{
 "cells": [
  {
   "cell_type": "code",
   "execution_count": 1,
   "metadata": {},
   "outputs": [
    {
     "data": {
      "text/plain": [
       "'__main__'"
      ]
     },
     "execution_count": 1,
     "metadata": {},
     "output_type": "execute_result"
    }
   ],
   "source": [
    "__name__\n",
    "\n",
    "# 文件變數有個名字"
   ]
  },
  {
   "cell_type": "code",
   "execution_count": 9,
   "metadata": {},
   "outputs": [
    {
     "name": "stdout",
     "output_type": "stream",
     "text": [
      "2024\n",
      "8\n",
      "2\n",
      "10\n",
      "15\n",
      "17\n"
     ]
    }
   ],
   "source": [
    "# 取得當前電腦的日期與時間\n",
    "from datetime import datetime\n",
    "now = datetime.now()\n",
    "print(now.year)\n",
    "print(now.month)\n",
    "print(now.day)\n",
    "print(now.hour)\n",
    "print(now.minute)\n",
    "print(now.second)"
   ]
  },
  {
   "cell_type": "markdown",
   "metadata": {},
   "source": [
    "%Y: 4 位數字的年份（例如：2024）\n",
    "%m: 2 位數字的月份（範圍：01 到 12）\n",
    "%d: 2 位數字的日期（範圍：01 到 31）\n",
    "%H: 24 小時制的小時（範圍：00 到 23）\n",
    "%M: 2 位數字的分鐘（範圍：00 到 59）\n",
    "%S: 2 位數字的秒（範圍：00 到 59）\n",
    "strtime是string format time的縮寫"
   ]
  },
  {
   "cell_type": "code",
   "execution_count": 18,
   "metadata": {},
   "outputs": [
    {
     "name": "stdout",
     "output_type": "stream",
     "text": [
      "%Y-%m-%d %H:%M:%S\n"
     ]
    }
   ],
   "source": [
    "now.strftime('%Y-%m-%d %H:%M:%S')"
   ]
  }
 ],
 "metadata": {
  "kernelspec": {
   "display_name": "lesson_2408",
   "language": "python",
   "name": "python3"
  },
  "language_info": {
   "codemirror_mode": {
    "name": "ipython",
    "version": 3
   },
   "file_extension": ".py",
   "mimetype": "text/x-python",
   "name": "python",
   "nbconvert_exporter": "python",
   "pygments_lexer": "ipython3",
   "version": "3.12.3"
  }
 },
 "nbformat": 4,
 "nbformat_minor": 2
}
