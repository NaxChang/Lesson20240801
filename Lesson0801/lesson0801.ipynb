{
 "cells": [
  {
   "cell_type": "code",
   "execution_count": 7,
   "metadata": {},
   "outputs": [
    {
     "name": "stdout",
     "output_type": "stream",
     "text": [
      "12,12.0,12.0,abc\n",
      "12,12.0,12.0,abc.\n"
     ]
    }
   ],
   "source": [
    "print(12, 12.0, \"12.0\", \"abc\", sep=\",\")\n",
    "print(12, 12.0, \"12.0\", \"abc\", sep=\" \", end=\".\\n\")"
   ]
  },
  {
   "cell_type": "code",
   "execution_count": 1,
   "metadata": {},
   "outputs": [
    {
     "name": "stdout",
     "output_type": "stream",
     "text": [
      "cat 78 89.0 65.0\n",
      "<class 'str'>\n",
      "<class 'int'>\n",
      "<class 'float'>\n"
     ]
    }
   ],
   "source": [
    "name = \"cat\"\n",
    "chinese = 78\n",
    "english = 89.0\n",
    "math = 65.0\n",
    "print(name, chinese, english, math)\n",
    "print(type(name))\n",
    "print(type(chinese))\n",
    "print(type(math))"
   ]
  }
 ],
 "metadata": {
  "kernelspec": {
   "display_name": "myenv",
   "language": "python",
   "name": "python3"
  },
  "language_info": {
   "codemirror_mode": {
    "name": "ipython",
    "version": 3
   },
   "file_extension": ".py",
   "mimetype": "text/x-python",
   "name": "python",
   "nbconvert_exporter": "python",
   "pygments_lexer": "ipython3",
   "version": "3.12.3"
  }
 },
 "nbformat": 4,
 "nbformat_minor": 2
}
